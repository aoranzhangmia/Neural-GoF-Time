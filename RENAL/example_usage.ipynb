{
 "cells": [
  {
   "cell_type": "code",
   "execution_count": 1,
   "metadata": {},
   "outputs": [],
   "source": [
    "import numpy as np\n",
    "import torch\n",
    "import torch.nn as nn\n",
    "import os\n",
    "import random\n",
    "import matplotlib\n",
    "import matplotlib.pyplot as plt\n",
    "import argparse\n",
    "import seaborn as sns\n",
    "import pandas as pd\n",
    "# %matplotlib notebook\n",
    "# %matplotlib widget\n",
    "# !pip install clustpy\n",
    "import pickle\n",
    "import random\n",
    "from IPython.display import clear_output\n",
    "import time\n",
    "from sklearn.metrics import confusion_matrix\n",
    "from sklearn.metrics import roc_auc_score"
   ]
  },
  {
   "cell_type": "code",
   "execution_count": 2,
   "metadata": {},
   "outputs": [],
   "source": [
    "from tpp import SelfExcitingProcess, SelfCorrectingProcess, plot_1d_pointprocess, concat_array, concat_2d_array\n",
    "from nn_models import Exponential_Hawkes, generate_initial_weights_and_biases, config_generate, model_train, SimpleLSTM, NeuralHawkes, NHSTPP\n",
    "from embedding_binning import discretize, select_opt_bin"
   ]
  },
  {
   "cell_type": "markdown",
   "metadata": {},
   "source": [
    "# Generate Data"
   ]
  },
  {
   "cell_type": "code",
   "execution_count": 3,
   "metadata": {},
   "outputs": [],
   "source": [
    "base_mu = 1\n",
    "alpha = 1\n",
    "beta = 1.25"
   ]
  },
  {
   "cell_type": "code",
   "execution_count": 4,
   "metadata": {},
   "outputs": [],
   "source": [
    "\n",
    "# se = SelfExcitingProcess(base_mu, alpha, beta, 100, [0., 100.], 1e+2, 800)\n",
    "# se_time_train, se_lam_train, se_len_train = se.simulate_multiple_seq()\n",
    "# se_time_test, se_lam_test, se_len_test = se.simulate_multiple_seq()\n",
    "# sc = SelfCorrectingProcess(2.5, 0.05, 0.25, 100, [0., 100.], 1e+2, 500)\n",
    "# sc_time_train, sc_lam_train, sc_len_train = \\\n",
    "# sc.simulate_multiple_seq()\n",
    "# sc_time_test, sc_lam_test, sc_len_test = \\\n",
    "#         sc.simulate_multiple_seq()\n",
    "# _ = plot_1d_pointprocess(se, se_time_train[19], [0.,100.], 300)\n",
    "# _ = plot_1d_pointprocess(sc, sc_time_train[15], [0.,100.], 300)"
   ]
  },
  {
   "cell_type": "code",
   "execution_count": 5,
   "metadata": {},
   "outputs": [],
   "source": [
    "# data_to_save = {\n",
    "#     'se_time_train': se_time_train,\n",
    "#     'se_lam_train': se_lam_train,\n",
    "#     'se_len_train': se_len_train,\n",
    "#     'se_time_test': se_time_test,\n",
    "#     'se_lam_test': se_lam_test,\n",
    "#     'se_len_test': se_len_test,\n",
    "#     'sc_time_train': sc_time_train,\n",
    "#     'sc_lam_train': sc_lam_train,\n",
    "#     'sc_len_train': sc_len_train,\n",
    "#     'sc_time_test': sc_time_test,\n",
    "#     'sc_lam_test': sc_lam_test,\n",
    "#     'sc_len_test': sc_len_test\n",
    "#     }\n",
    "# with open('training_data.pkl', 'wb') as file:\n",
    "#         pickle.dump(data_to_save, file)\n",
    "# print(\"Data has been serialized and saved to 'training_data.pkl'\")"
   ]
  },
  {
   "cell_type": "code",
   "execution_count": 6,
   "metadata": {},
   "outputs": [
    {
     "name": "stdout",
     "output_type": "stream",
     "text": [
      "dict_keys(['se_time_train', 'se_lam_train', 'se_len_train', 'se_time_test', 'se_lam_test', 'se_len_test', 'sc_time_train', 'sc_lam_train', 'sc_len_train', 'sc_time_test', 'sc_lam_test', 'sc_len_test'])\n"
     ]
    }
   ],
   "source": [
    "import pickle\n",
    "\n",
    "file_name = 'training_data.pkl'\n",
    "with open(file_name, 'rb') as file:\n",
    "    data_loaded = pickle.load(file)\n",
    "print(data_loaded.keys())\n",
    "for key, value in data_loaded.items():\n",
    "\n",
    "    globals()[key] = value\n"
   ]
  },
  {
   "cell_type": "code",
   "execution_count": 7,
   "metadata": {},
   "outputs": [],
   "source": [
    "# this example contains 100 seqeunces for each se and sc model\n",
    "total_train = [se_time_train, se_time_test,\n",
    "               sc_time_train, sc_time_test]\n",
    "total_train_len = [se_len_train, se_len_test,\n",
    "                   sc_len_train, sc_len_test]\n",
    "total_train_lam = [se_lam_train, sc_lam_train]\n",
    "train = concat_array(total_train, total_train_len, [50, 50, 50, 50])"
   ]
  },
  {
   "cell_type": "markdown",
   "metadata": {},
   "source": [
    "## Real Data"
   ]
  },
  {
   "cell_type": "markdown",
   "metadata": {},
   "source": [
    "### Weather Data"
   ]
  },
  {
   "cell_type": "code",
   "execution_count": 8,
   "metadata": {},
   "outputs": [
    {
     "name": "stderr",
     "output_type": "stream",
     "text": [
      "/var/folders/69/r64yfkxd5z1dl3nbs7p5lv7m0000gn/T/ipykernel_52844/2678135693.py:10: SettingWithCopyWarning: \n",
      "A value is trying to be set on a copy of a slice from a DataFrame.\n",
      "Try using .loc[row_indexer,col_indexer] = value instead\n",
      "\n",
      "See the caveats in the documentation: https://pandas.pydata.org/pandas-docs/stable/user_guide/indexing.html#returning-a-view-versus-a-copy\n",
      "  pitts['time'] = pitts['date'].dt.dayofyear\n",
      "/var/folders/69/r64yfkxd5z1dl3nbs7p5lv7m0000gn/T/ipykernel_52844/2678135693.py:10: SettingWithCopyWarning: \n",
      "A value is trying to be set on a copy of a slice from a DataFrame.\n",
      "Try using .loc[row_indexer,col_indexer] = value instead\n",
      "\n",
      "See the caveats in the documentation: https://pandas.pydata.org/pandas-docs/stable/user_guide/indexing.html#returning-a-view-versus-a-copy\n",
      "  pitts['time'] = pitts['date'].dt.dayofyear\n"
     ]
    }
   ],
   "source": [
    "pitts = pd.read_csv('Real Data/pitts_1991_after.csv')\n",
    "sfo = pd.read_csv('Real Data/sfo_1991_after.csv')\n",
    "pitts = pitts[pitts['TAVG'].notna()] \n",
    "sfo = sfo[sfo['TAVG'].notna()] \n",
    "def weather_process(pitts):\n",
    "    pitts['date'] = pd.to_datetime(pitts['DATE'])\n",
    "    pitts['year'] = pitts['date'].dt.year\n",
    "    valid_pitts = pitts.groupby('year').size()[pitts.groupby('year').size() > 360].index\n",
    "    pitts = pitts[pitts['year'].isin(valid_pitts)]\n",
    "    pitts['time'] = pitts['date'].dt.dayofyear\n",
    "    pitts = pitts.loc[:,['year', 'time', 'TAVG']]\n",
    "\n",
    "    grouped = pitts.groupby('year')\n",
    "    pitts_list = []\n",
    "    for name, group in grouped:\n",
    "        group = group.sort_values('time')\n",
    "        np_array = group[['time', 'TAVG']].to_numpy()\n",
    "        pitts_list.append(np_array)\n",
    "    return(pitts_list)\n",
    "pitts_list = weather_process(pitts)\n",
    "sfo_list = weather_process(sfo)"
   ]
  },
  {
   "cell_type": "markdown",
   "metadata": {},
   "source": [
    "### Earthquake"
   ]
  },
  {
   "cell_type": "code",
   "execution_count": 9,
   "metadata": {},
   "outputs": [
    {
     "data": {
      "text/html": [
       "<div>\n",
       "<style scoped>\n",
       "    .dataframe tbody tr th:only-of-type {\n",
       "        vertical-align: middle;\n",
       "    }\n",
       "\n",
       "    .dataframe tbody tr th {\n",
       "        vertical-align: top;\n",
       "    }\n",
       "\n",
       "    .dataframe thead th {\n",
       "        text-align: right;\n",
       "    }\n",
       "</style>\n",
       "<table border=\"1\" class=\"dataframe\">\n",
       "  <thead>\n",
       "    <tr style=\"text-align: right;\">\n",
       "      <th></th>\n",
       "      <th>raw_seconds</th>\n",
       "      <th>Lat</th>\n",
       "      <th>Lon</th>\n",
       "    </tr>\n",
       "  </thead>\n",
       "  <tbody>\n",
       "    <tr>\n",
       "      <th>0</th>\n",
       "      <td>4.093046</td>\n",
       "      <td>0.560558</td>\n",
       "      <td>0.798456</td>\n",
       "    </tr>\n",
       "    <tr>\n",
       "      <th>1</th>\n",
       "      <td>4.093361</td>\n",
       "      <td>0.568543</td>\n",
       "      <td>0.795805</td>\n",
       "    </tr>\n",
       "    <tr>\n",
       "      <th>2</th>\n",
       "      <td>4.093694</td>\n",
       "      <td>0.023322</td>\n",
       "      <td>0.080551</td>\n",
       "    </tr>\n",
       "    <tr>\n",
       "      <th>3</th>\n",
       "      <td>4.094086</td>\n",
       "      <td>0.564133</td>\n",
       "      <td>0.798653</td>\n",
       "    </tr>\n",
       "    <tr>\n",
       "      <th>4</th>\n",
       "      <td>4.097371</td>\n",
       "      <td>0.565921</td>\n",
       "      <td>0.794626</td>\n",
       "    </tr>\n",
       "    <tr>\n",
       "      <th>...</th>\n",
       "      <td>...</td>\n",
       "      <td>...</td>\n",
       "      <td>...</td>\n",
       "    </tr>\n",
       "    <tr>\n",
       "      <th>31776</th>\n",
       "      <td>29.997963</td>\n",
       "      <td>0.418694</td>\n",
       "      <td>0.680645</td>\n",
       "    </tr>\n",
       "    <tr>\n",
       "      <th>31777</th>\n",
       "      <td>29.998745</td>\n",
       "      <td>0.579483</td>\n",
       "      <td>0.786514</td>\n",
       "    </tr>\n",
       "    <tr>\n",
       "      <th>31778</th>\n",
       "      <td>29.998994</td>\n",
       "      <td>0.425641</td>\n",
       "      <td>0.710147</td>\n",
       "    </tr>\n",
       "    <tr>\n",
       "      <th>31779</th>\n",
       "      <td>29.999721</td>\n",
       "      <td>0.546126</td>\n",
       "      <td>0.759291</td>\n",
       "    </tr>\n",
       "    <tr>\n",
       "      <th>31780</th>\n",
       "      <td>30.000000</td>\n",
       "      <td>0.776215</td>\n",
       "      <td>0.800902</td>\n",
       "    </tr>\n",
       "  </tbody>\n",
       "</table>\n",
       "<p>31781 rows × 3 columns</p>\n",
       "</div>"
      ],
      "text/plain": [
       "       raw_seconds       Lat       Lon\n",
       "0         4.093046  0.560558  0.798456\n",
       "1         4.093361  0.568543  0.795805\n",
       "2         4.093694  0.023322  0.080551\n",
       "3         4.094086  0.564133  0.798653\n",
       "4         4.097371  0.565921  0.794626\n",
       "...            ...       ...       ...\n",
       "31776    29.997963  0.418694  0.680645\n",
       "31777    29.998745  0.579483  0.786514\n",
       "31778    29.998994  0.425641  0.710147\n",
       "31779    29.999721  0.546126  0.759291\n",
       "31780    30.000000  0.776215  0.800902\n",
       "\n",
       "[31781 rows x 3 columns]"
      ]
     },
     "execution_count": 9,
     "metadata": {},
     "output_type": "execute_result"
    }
   ],
   "source": [
    "import time\n",
    "import datetime\n",
    "japan = pd.read_csv(\"Real Data/Japan.csv\")\n",
    "japan = japan[japan['magnitude'] >= 3]\n",
    "\n",
    "japan_tsp = japan\n",
    "def get_tsp(df, time_string, methods, offset, lat_name, lon_name):\n",
    "    def get_raw_seconds(string, offset):\n",
    "        dt = datetime.datetime.strptime(string, methods)\n",
    "        epoch = datetime.datetime(offset[0], offset[1], offset[2])\n",
    "        timestamp = (dt - epoch).total_seconds()\n",
    "        return timestamp\n",
    "    df['raw_seconds'] = df[time_string].apply(\n",
    "        get_raw_seconds, offset = offset)\n",
    "\n",
    "    df['raw_seconds'] = (df['raw_seconds'] - \n",
    "                                df['raw_seconds'].min())/\\\n",
    "                                    (df['raw_seconds'].max() - \n",
    "                                    df['raw_seconds'].min()) * 30\n",
    "    # (japan_tsp.to_csv('japan_seconds.csv'))\n",
    "    df[lat_name] = (df[lat_name] - df[lat_name].min())/\\\n",
    "        (df[lat_name].max() - df[lat_name].min())\n",
    "    df[lon_name] = (df[lon_name] - df[lon_name].min())/\\\n",
    "        (df[lon_name].max() - df[lon_name].min())\n",
    "    df = df[['raw_seconds', lat_name, lon_name]]\n",
    "    return df\n",
    "japan_temp = get_tsp(japan_tsp, 'origin_time', \"%Y-%m-%d %H:%M:%S.%f\", (1990, 1, 1),\n",
    "                    'Lat', 'Lon')\n",
    "japan_temp"
   ]
  },
  {
   "cell_type": "code",
   "execution_count": 10,
   "metadata": {},
   "outputs": [
    {
     "name": "stdout",
     "output_type": "stream",
     "text": [
      "1993-01-01 17:42:47.970000\n"
     ]
    },
    {
     "data": {
      "text/html": [
       "<div>\n",
       "<style scoped>\n",
       "    .dataframe tbody tr th:only-of-type {\n",
       "        vertical-align: middle;\n",
       "    }\n",
       "\n",
       "    .dataframe tbody tr th {\n",
       "        vertical-align: top;\n",
       "    }\n",
       "\n",
       "    .dataframe thead th {\n",
       "        text-align: right;\n",
       "    }\n",
       "</style>\n",
       "<table border=\"1\" class=\"dataframe\">\n",
       "  <thead>\n",
       "    <tr style=\"text-align: right;\">\n",
       "      <th></th>\n",
       "      <th>raw_seconds</th>\n",
       "      <th>Latitude</th>\n",
       "      <th>Longitude</th>\n",
       "    </tr>\n",
       "  </thead>\n",
       "  <tbody>\n",
       "    <tr>\n",
       "      <th>0</th>\n",
       "      <td>0.000000</td>\n",
       "      <td>0.675974</td>\n",
       "      <td>0.179185</td>\n",
       "    </tr>\n",
       "    <tr>\n",
       "      <th>1</th>\n",
       "      <td>0.003755</td>\n",
       "      <td>0.571835</td>\n",
       "      <td>0.312686</td>\n",
       "    </tr>\n",
       "    <tr>\n",
       "      <th>2</th>\n",
       "      <td>0.009886</td>\n",
       "      <td>0.236293</td>\n",
       "      <td>0.666566</td>\n",
       "    </tr>\n",
       "    <tr>\n",
       "      <th>3</th>\n",
       "      <td>0.017735</td>\n",
       "      <td>0.266399</td>\n",
       "      <td>0.676350</td>\n",
       "    </tr>\n",
       "    <tr>\n",
       "      <th>4</th>\n",
       "      <td>0.023560</td>\n",
       "      <td>0.641305</td>\n",
       "      <td>0.297158</td>\n",
       "    </tr>\n",
       "    <tr>\n",
       "      <th>...</th>\n",
       "      <td>...</td>\n",
       "      <td>...</td>\n",
       "      <td>...</td>\n",
       "    </tr>\n",
       "    <tr>\n",
       "      <th>7145</th>\n",
       "      <td>29.971115</td>\n",
       "      <td>0.381449</td>\n",
       "      <td>0.445736</td>\n",
       "    </tr>\n",
       "    <tr>\n",
       "      <th>7146</th>\n",
       "      <td>29.972697</td>\n",
       "      <td>0.381316</td>\n",
       "      <td>0.445837</td>\n",
       "    </tr>\n",
       "    <tr>\n",
       "      <th>7147</th>\n",
       "      <td>29.973315</td>\n",
       "      <td>0.195964</td>\n",
       "      <td>0.641859</td>\n",
       "    </tr>\n",
       "    <tr>\n",
       "      <th>7148</th>\n",
       "      <td>29.985751</td>\n",
       "      <td>0.587842</td>\n",
       "      <td>0.501289</td>\n",
       "    </tr>\n",
       "    <tr>\n",
       "      <th>7149</th>\n",
       "      <td>30.000000</td>\n",
       "      <td>0.196181</td>\n",
       "      <td>0.710998</td>\n",
       "    </tr>\n",
       "  </tbody>\n",
       "</table>\n",
       "<p>7150 rows × 3 columns</p>\n",
       "</div>"
      ],
      "text/plain": [
       "      raw_seconds  Latitude  Longitude\n",
       "0        0.000000  0.675974   0.179185\n",
       "1        0.003755  0.571835   0.312686\n",
       "2        0.009886  0.236293   0.666566\n",
       "3        0.017735  0.266399   0.676350\n",
       "4        0.023560  0.641305   0.297158\n",
       "...           ...       ...        ...\n",
       "7145    29.971115  0.381449   0.445736\n",
       "7146    29.972697  0.381316   0.445837\n",
       "7147    29.973315  0.195964   0.641859\n",
       "7148    29.985751  0.587842   0.501289\n",
       "7149    30.000000  0.196181   0.710998\n",
       "\n",
       "[7150 rows x 3 columns]"
      ]
     },
     "execution_count": 10,
     "metadata": {},
     "output_type": "execute_result"
    }
   ],
   "source": [
    "nc = pd.read_csv('Real Data/dbsearch.txt', delimiter=',')\n",
    "datetimes = pd.to_datetime(nc['DateTime'], format=\"%Y/%m/%d %H:%M:%S.%f\")\n",
    "min_datetime_row = nc['DateTime'].loc[datetimes.idxmin()]\n",
    "print(datetime.datetime.strptime(min_datetime_row, \"%Y/%m/%d %H:%M:%S.%f\"))\n",
    "nc_temp = get_tsp(nc, 'DateTime', \"%Y/%m/%d %H:%M:%S.%f\", (1993, 1, 1),\n",
    "                    'Latitude', 'Longitude')\n",
    "nc_temp"
   ]
  },
  {
   "cell_type": "code",
   "execution_count": 11,
   "metadata": {},
   "outputs": [
    {
     "data": {
      "text/plain": [
       "(2, 31781)"
      ]
     },
     "execution_count": 11,
     "metadata": {},
     "output_type": "execute_result"
    }
   ],
   "source": [
    "train_temp = concat_array([np.array([nc_temp['raw_seconds']]), np.array([japan_temp['raw_seconds']])],\n",
    "                          [np.array([len(list(nc_temp['raw_seconds']))]),np.array([len(list(japan_temp['raw_seconds']))])],\n",
    "                          [1,1])\n",
    "train_temp.shape"
   ]
  },
  {
   "cell_type": "code",
   "execution_count": 12,
   "metadata": {},
   "outputs": [
    {
     "data": {
      "text/plain": [
       "(2, 31781, 3)"
      ]
     },
     "execution_count": 12,
     "metadata": {},
     "output_type": "execute_result"
    }
   ],
   "source": [
    "train_all = concat_2d_array([np.array([nc_temp]), np.array([japan_temp])],\n",
    "                          [np.array([len(list(nc_temp['raw_seconds']))]),np.array([len(list(japan_temp['raw_seconds']))])],\n",
    "                          [1,1])\n",
    "train_all.shape"
   ]
  },
  {
   "cell_type": "markdown",
   "metadata": {},
   "source": [
    "# Learn Neural Network"
   ]
  },
  {
   "cell_type": "code",
   "execution_count": 13,
   "metadata": {},
   "outputs": [],
   "source": [
    "# define real observations and the one generated from models\n",
    "idx = [28, 156]\n",
    "idx0, idx1 = idx[0], idx[1]"
   ]
  },
  {
   "cell_type": "code",
   "execution_count": 14,
   "metadata": {},
   "outputs": [],
   "source": [
    "T = [0, 100]\n",
    "nsample = 10\n",
    "n_class = 1\n",
    "n_cluster = 1\n",
    "int_res = 200\n",
    "hid_dim = 2\n",
    "batch_size = 1\n",
    "lr = 0.00025\n",
    "momentum = 0.6\n",
    "epoch = 100\n",
    "ngrid = 100\n",
    "weight_decay = 1e-4\n",
    "max_bin = 20\n",
    "lam_reg = 0.05\n",
    "config = config_generate(T0=str(T[0]),\n",
    "                        T1=str(T[1]),\n",
    "                        int_res=str(int_res),\n",
    "                        n_class=str(n_class),\n",
    "                        lr=str(lr),\n",
    "                        momentum = str(momentum),\n",
    "                        epoch=str(epoch),\n",
    "                        hid_dim=str(hid_dim),\n",
    "                        batch_size=str(batch_size),\n",
    "                        opt = \"SGD\",\n",
    "                        base_mu = str(base_mu), alpha=str(alpha), beta=str(beta),\n",
    "                        weight_decay = str(weight_decay),\n",
    "                        max_bin = str(max_bin),\n",
    "                        lam_reg = str(lam_reg))"
   ]
  },
  {
   "cell_type": "code",
   "execution_count": 86,
   "metadata": {},
   "outputs": [
    {
     "name": "stderr",
     "output_type": "stream",
     "text": [
      "/Users/aoranzhang/anaconda3/lib/python3.11/site-packages/torch/optim/lr_scheduler.py:28: UserWarning: The verbose parameter is deprecated. Please use get_last_lr() to access the learning rate.\n",
      "  warnings.warn(\"The verbose parameter is deprecated. Please use get_last_lr() \"\n"
     ]
    },
    {
     "name": "stdout",
     "output_type": "stream",
     "text": [
      "Training on cpu\n",
      "training done!\n"
     ]
    }
   ],
   "source": [
    "train_llks = np.array([np.nan])\n",
    "while np.isnan(train_llks[-1]):\n",
    "    train_time = train[idx0]\n",
    "    nh_model = NeuralHawkes(config)\n",
    "    nh_model, train_llks, test_llks, test_maes= \\\n",
    "        model_train(train_time.reshape((1,-1)), train_time.reshape((1,-1)),\n",
    "                    nh_model, config, False, None, None, False)"
   ]
  },
  {
   "cell_type": "markdown",
   "metadata": {},
   "source": [
    "# Embedding Binning"
   ]
  },
  {
   "cell_type": "markdown",
   "metadata": {},
   "source": [
    "## chi square test\n",
    "$\\sum_{i,j}\\frac{f_{i} g_{i}}{f_{ij} + g_{ij}} \\left(\\frac{f_{ij}}{f_{i}} - \\frac{g_{ij}}{g_{i}}\\right)^2$\n"
   ]
  },
  {
   "cell_type": "code",
   "execution_count": 16,
   "metadata": {},
   "outputs": [],
   "source": [
    "from scipy.stats import chi2_contingency\n",
    "from scipy.stats import chi2\n",
    "def chi_square_test(f, g, verbose = False):\n",
    "    epsilon = 1e-20\n",
    "    f = f\n",
    "    g = g\n",
    "    f_i = np.sum(f, axis=1, keepdims=True)\n",
    "    # print(f_i)\n",
    "    g_i = np.sum(g, axis=1, keepdims=True)\n",
    "    # print(g_i)\n",
    "    f_ij_i = np.nan_to_num(f / f_i)\n",
    "    g_ij_i = np.nan_to_num(g / g_i)\n",
    "    common_p = np.nan_to_num((f + g) / (f_i + g_i))\n",
    "    fg_i = np.nan_to_num((f_i * g_i) / (f + g))\n",
    "\n",
    "    # print(fg_i)\n",
    "    # chi_square_stat = np.sum((f - f_i * common_p)**2/(f_i * common_p)+\\\n",
    "    #     (g - g_i * common_p)**2/(g_i * common_p))\n",
    "    chi_square_stat = np.sum(np.nan_to_num((f - f_i * common_p)**2 / (f_i * common_p)) +\n",
    "                             np.nan_to_num((g - g_i * common_p)**2 / (g_i * common_p)))\n",
    "    # print(f_i * common_p)\n",
    "    # chi_mat = fg_i * (f_ij_i - g_ij_i)**2\n",
    "    # chi_square_stat = np.sum(chi_mat)\n",
    "    # print(fg_i, (f_ij_i - g_ij_i)**2)\n",
    "    s = f.shape[0]\n",
    "    # print(chi_mat)\n",
    "    p_value = chi2.sf(chi_square_stat, s*(s-1))\n",
    "    if verbose: \n",
    "        print(chi_square_stat, chi2.ppf(1-0.05,s*(s-1)))\n",
    "        print(\"p-value:\", p_value)\n",
    "    return chi_square_stat, p_value"
   ]
  },
  {
   "cell_type": "markdown",
   "metadata": {},
   "source": [
    "## Process Binning"
   ]
  },
  {
   "cell_type": "code",
   "execution_count": 63,
   "metadata": {},
   "outputs": [],
   "source": [
    "def run_with_retry(func, real_h, sim_h, lam_reg, zeros, min_state, config, retries=100, delay=0.1):\n",
    "    import time\n",
    "    for i in range(retries):\n",
    "        try:\n",
    "            p_val = func(real_h, sim_h, lam_reg, zeros, min_state, config)\n",
    "            return p_val  # If it succeeds, break out of the loop\n",
    "        except Exception as e:\n",
    "            print(f\"Error: {e}, retrying {i + 1}/{retries}...\")\n",
    "            time.sleep(delay)\n",
    "            if i == retries - 1:\n",
    "                raise  # Re-raise the exception after the last retry\n",
    "        "
   ]
  },
  {
   "cell_type": "code",
   "execution_count": 65,
   "metadata": {},
   "outputs": [],
   "source": [
    "def process_data(real_h, sim_h, lam_reg, zeros, min_state, config): \n",
    "    try:\n",
    "        H_range = np.concatenate((real_h[0,:,:], sim_h[0,:,:]), axis=0)\n",
    "        lower, upper = 2.5, 97.5\n",
    "        lower_bound = np.percentile(H_range, lower, axis=0)\n",
    "        upper_bound = np.percentile(H_range, upper, axis=0)\n",
    "\n",
    "        lower_bound_tensor = torch.tensor(lower_bound)\n",
    "        upper_bound_tensor = torch.tensor(upper_bound)\n",
    "\n",
    "        mask = (real_h[0, :, :] >= lower_bound_tensor) & (real_h[0, :, :] <= upper_bound_tensor)\n",
    "        h = real_h[:, :, :][:, mask.all(dim=1)]\n",
    "        h1 = sim_h[:, :, :][:, ((sim_h[0, :, :] >= lower_bound_tensor) & \\\n",
    "            (sim_h[0, :, :] <= upper_bound_tensor)).all(dim=1)]\n",
    "\n",
    "        max_dict, max_norm = select_opt_bin(h[0], h1[0], range(1, config.max_bin, 1),\n",
    "                                            threshold=0, lam_reg=lam_reg,\n",
    "                                            tolerance=0, \n",
    "                                            lower=0,\n",
    "                                            upper=100, zero= zeros,\n",
    "                                            min_state=min_state, max_state=50,\n",
    "                                            verbose=False)\n",
    "        \n",
    "        f, p1, g, p2 = discretize((h[0]), (h1[0]), max_norm,\n",
    "                                  lower=0, upper=100, plot=True)\n",
    "\n",
    "        # print(f'Select {max_norm} bins out of {max_dict}')\n",
    "        _, p_val = chi_square_test(f + (1e-20), g + (1e-20), False)\n",
    "        # return p_val\n",
    "    except Exception as e:\n",
    "        print(f\"An error occurred: {e}\")\n",
    "        raise\n",
    "    return p_val"
   ]
  },
  {
   "cell_type": "code",
   "execution_count": 85,
   "metadata": {},
   "outputs": [
    {
     "data": {
      "image/png": "[encoded data removed]",
      "text/plain": [
       "<Figure size 640x480 with 1 Axes>"
      ]
     },
     "metadata": {},
     "output_type": "display_data"
    },
    {
     "data": {
      "image/png": "[encoded data removed]",
      "text/plain": [
       "<Figure size 640x480 with 1 Axes>"
      ]
     },
     "metadata": {},
     "output_type": "display_data"
    },
    {
     "data": {
      "image/png": "[encoded data removed]",
      "text/plain": [
       "<Figure size 640x480 with 1 Axes>"
      ]
     },
     "metadata": {},
     "output_type": "display_data"
    },
    {
     "data": {
      "image/png": "[encoded data removed]",
      "text/plain": [
       "<Figure size 640x480 with 1 Axes>"
      ]
     },
     "metadata": {},
     "output_type": "display_data"
    },
    {
     "name": "stdout",
     "output_type": "stream",
     "text": [
      "0.011093808836740354\n"
     ]
    }
   ],
   "source": [
    "real_h = nh_model.get_H_mat(train[idx0,:].reshape(1,-1), False)\n",
    "real_h = real_h[:, train[idx0,:] > 0]\n",
    "real_h_min = np.min(real_h.numpy(), axis=1, keepdims=True)\n",
    "real_h_max = np.max(real_h.numpy(), axis=1, keepdims=True)\n",
    "real_h = (real_h - real_h_min) / (real_h_max - real_h_min)\n",
    "\n",
    "sim_h = nh_model.get_H_mat(train[idx1,:].reshape(1,-1), False)\n",
    "sim_h = sim_h[:, train[idx1,:] > 0]\n",
    "sim_h_min = np.min(sim_h.numpy(), axis=1, keepdims=True)\n",
    "sim_h_max = np.max(sim_h.numpy(), axis=1, keepdims=True)\n",
    "sim_h = (sim_h - sim_h_min) / (sim_h_max - sim_h_min)\n",
    "\n",
    "p_val = run_with_retry(process_data, real_h, sim_h, 0.008, 0.15, 15, config,\n",
    "                                       retries=10, delay=0.1)\n",
    "print(p_val)"
   ]
  },
  {
   "cell_type": "markdown",
   "metadata": {},
   "source": [
    "# Baseline For Comparison (Stein, KSD, MMD)"
   ]
  },
  {
   "cell_type": "markdown",
   "metadata": {},
   "source": [
    "## KSD"
   ]
  },
  {
   "cell_type": "code",
   "execution_count": 20,
   "metadata": {},
   "outputs": [],
   "source": [
    "# import sys\n",
    "# sys.path.append('/content/drive/Othercomputers/My MacBook Pro/pptest/Experiment')\n",
    "from linear_time import GaussianSteinTest\n",
    "from kernelgof import GoodnessOfFitTest, simulatepm\n",
    "from ksd import KSD\n",
    "from mmd import MMD\n",
    "from scipy.spatial.distance import cdist, pdist, squareform\n",
    "from kernels import mmd_kernel\n"
   ]
  },
  {
   "cell_type": "code",
   "execution_count": 21,
   "metadata": {},
   "outputs": [],
   "source": [
    "def part_seq(data, n = 20):\n",
    "    # block_volume, remainder = divmod(len(data), 10)\n",
    "    # blocks_null = [data[i:i+block_volume] for i in range(0, block_volume*9,\n",
    "    #                                                      block_volume)]\n",
    "    # blocks_null.append(data[block_volume*9:])\n",
    "    block_volume = int(np.ceil(len(data)/ n))\n",
    "\n",
    "    # Partition the space into blocks\n",
    "    blocks = [(data[i*n:i*n+n].reshape(-1,1)) for i in range(block_volume)]\n",
    "    return (blocks)"
   ]
  },
  {
   "cell_type": "markdown",
   "metadata": {},
   "source": [
    "### ksd implementation"
   ]
  },
  {
   "cell_type": "code",
   "execution_count": null,
   "metadata": {},
   "outputs": [],
   "source": [
    "# papangelou_fun for se & vh\n",
    "def papangelou_model_vh(t, X):\n",
    "        \"\"\"\n",
    "        Papangelou conditional intensity function at time t given points X.\n",
    "        This is different from the conditional intensity (self.intensity).\n",
    "\n",
    "        Args:\n",
    "            t: array(dim), a new time point.\n",
    "            X: array((..., dim)), existing time-points in a sample.\n",
    "        \"\"\"\n",
    "        assert X.shape[1] == 1\n",
    "\n",
    "        times = X.ravel()   # array\n",
    "        denom = [vh.intensity(u, X[X<u]) for u in times[times > t]]  # Check\n",
    "        g_t = vh.trigger(times[times > t] - t)\n",
    "        log_frac = np.sum(np.log(denom + g_t) - np.log(denom))\n",
    "\n",
    "        # Integrated intensity term\n",
    "        log_Lterm = -vh.alpha/vh.beta * (1.-np.exp(-(vh.T[1]-t)*vh.beta))\n",
    "\n",
    "        # Intensity term\n",
    "        log_lterm = np.log(vh.intensity(t, X[X<t]))\n",
    "        # print(log_Lterm)\n",
    "\n",
    "        return np.exp(log_Lterm + log_lterm + log_frac)\n",
    "\n",
    "# papangelou_fun for se & vh\n",
    "def papangelou_model_se(t, X):\n",
    "        \"\"\"\n",
    "        Papangelou conditional intensity function at time t given points X.\n",
    "        This is different from the conditional intensity (self.intensity).\n",
    "\n",
    "        Args:\n",
    "            t: array(dim), a new time point.\n",
    "            X: array((..., dim)), existing time-points in a sample.\n",
    "        \"\"\"\n",
    "        assert X.shape[1] == 1\n",
    "\n",
    "        times = X.ravel()   # array\n",
    "        denom = [se.intensity(u, X[X<u]) for u in times[times > t]]  # Check\n",
    "        g_t = se.trigger(times[times > t] - t)\n",
    "        log_frac = np.sum(np.log(denom + g_t) - np.log(denom))\n",
    "\n",
    "        # Integrated intensity term\n",
    "        log_Lterm = -se.alpha/se.beta * (1.-np.exp(-(se.T[1]-t)*vh.beta))\n",
    "\n",
    "        # Intensity term\n",
    "        log_lterm = np.log(se.intensity(t, X[X<t]))\n",
    "        # print(log_Lterm)\n",
    "\n",
    "        return np.exp(log_Lterm + log_lterm + log_frac)"
   ]
  },
  {
   "cell_type": "code",
   "execution_count": null,
   "metadata": {},
   "outputs": [],
   "source": [
    "null = se_time_test[0]\n",
    "null = (null[null>0])\n",
    "null_b =  part_seq(null, 60)\n",
    "alter = sc_time_test[40]\n",
    "alter = (alter[alter>0])\n",
    "alter_b =  part_seq(alter, 60)\n",
    "\n",
    "dists = pdist(np.concatenate(null_b).reshape(-1,1), metric=\"sqeuclidean\")\n",
    "rbf_h = np.median(dists)\n",
    "rbf_h"
   ]
  },
  {
   "cell_type": "code",
   "execution_count": null,
   "metadata": {},
   "outputs": [],
   "source": [
    "def kernel_fun(X, Y):\n",
    "    return mmd_kernel(X, Y, rbf_h=rbf_h)\n",
    "\n",
    "mmd = MMD(kernel_fun=kernel_fun, n_boot=10000)\n",
    "mmd_stat, mmd_thres, mmd_pval, _ = mmd.perform_test(null_b, alter_b)\n",
    "mmd_pred = 1 * (mmd_stat > mmd_thres)  # 0 for p, 1 for q\n",
    "print(\"mmd_pred =\", mmd_pred)"
   ]
  },
  {
   "cell_type": "code",
   "execution_count": null,
   "metadata": {},
   "outputs": [],
   "source": [
    "int_method = 'monte_carlo'\n",
    "ksd_method = 'direct'\n",
    "ksd = KSD(dim=1, bounds=[(0,1)],\n",
    "              papangelou_fun=papangelou_model_se,\n",
    "              kernel_type=\"mmd\",\n",
    "              int_method=int_method,\n",
    "              rbf_h=rbf_h,\n",
    "              mp_npts=10,\n",
    "              mc_npts=1000,\n",
    "              disp=False)\n",
    "\n",
    "kappa = ksd.compute_kappa(alter_b, method='direct')\n",
    "ksd_stat = ksd.test_statistic(kappa, True)\n",
    "ksd_thres, ksd_boot = ksd.bootstrap(kappa)\n",
    "ksd_pval = ksd.p_value(ksd_stat, ksd_boot)\n",
    "ksd_pred = 1 * (ksd_stat > ksd_thres)  # 0 for p, 1 for q\n",
    "print(\"ksd_pred =\", ksd_pred)"
   ]
  },
  {
   "cell_type": "markdown",
   "metadata": {},
   "source": [
    "## Kernel GOF"
   ]
  },
  {
   "cell_type": "code",
   "execution_count": 23,
   "metadata": {},
   "outputs": [],
   "source": [
    "model = se\n",
    "def single_log_grad(t, X):\n",
    "    dlambda = (sum([-model.alpha * model.beta* np.exp(-model.beta * (t - j)) for j in X[X<t]]))\n",
    "    denom =(model.intensity(t, X[X<t]))\n",
    "    # print(dlambda)\n",
    "    deri_integral = -model.alpha * (np.exp(-model.beta * (model.T[1] - t)) - 1)\n",
    "    res = deri_integral + dlambda/denom\n",
    "    if type(res) == np.ndarray:\n",
    "        res = res[0]\n",
    "    return res\n",
    "def log_grad(x):\n",
    "    return [single_log_grad(t,x) for t in x]\n",
    "\n",
    "# single_log_grad(null[0][130], null[0])"
   ]
  },
  {
   "cell_type": "code",
   "execution_count": null,
   "metadata": {},
   "outputs": [],
   "source": [
    "qm = GoodnessOfFitTest(log_grad)\n",
    "tester = qm.tester\n",
    "samples = sc_time_train[0, sc_time_train[0]>0].reshape(-1,1)\n",
    "alpha = 0.05\n",
    "chane_prob = 0.1\n",
    "num_bootstrapped_stats = 100\n",
    "dims = samples.shape[1]\n",
    "boots = 10 * int(dims / alpha)\n",
    "num_samples = samples.shape[0]\n",
    "U = np.zeros((num_samples, num_samples))\n",
    "for dim in range(dims):\n",
    "  U2, _ = tester.get_statistic_multiple_dim(samples, dim)\n",
    "  U += U2\n",
    "\n",
    "N = U.shape[0]\n",
    "bootsraped_stats = np.zeros(num_bootstrapped_stats)\n",
    "for proc in range(num_bootstrapped_stats):\n",
    "  # W = np.sign(orsetinW[:,proc])\n",
    "  W = simulatepm(N, chane_prob)\n",
    "  WW = np.outer(W, W)\n",
    "  st = np.mean(U * WW)\n",
    "  print(np.sum(U * WW-U))\n",
    "  bootsraped_stats[proc] = N * st\n",
    "stat = N * np.mean(U)\n",
    "# print(U)\n",
    "# print((U * WW))"
   ]
  },
  {
   "cell_type": "code",
   "execution_count": null,
   "metadata": {},
   "outputs": [],
   "source": [
    "p = tester.compute_pvalues_for_processes(U, chane_prob, boots)\n"
   ]
  },
  {
   "cell_type": "code",
   "execution_count": null,
   "metadata": {},
   "outputs": [],
   "source": [
    "qm = GoodnessOfFitTest(log_grad)\n",
    "p_val = qm.is_from_null(0.05, sc_time_train[0, sc_time_train[0]>0].reshape(-1,1),\n",
    "                        0.1)\n",
    "p_val"
   ]
  },
  {
   "cell_type": "code",
   "execution_count": null,
   "metadata": {},
   "outputs": [],
   "source": [
    "# # # both se\n",
    "# to_be_test = concat_array(\n",
    "#     [se_time_train, se_time_test],\n",
    "#     [se_len_train, se_len_test], [50, 50])\n",
    "# iterations = 200\n",
    "# p_vals = []\n",
    "# for i in range(iterations):\n",
    "#     idx = random.sample(range(100), 1)[0]\n",
    "#     # idx1 = idx[0]\n",
    "#     # idx2 = idx[1]\n",
    "#     # null = to_be_test[i]\n",
    "#     # null = [np.array(n[n>0]).reshape(-1,1) for n in null]\n",
    "#     alter = to_be_test[idx]\n",
    "#     alter = np.array(alter[alter>0]).reshape(-1,1)\n",
    "#     qm = GoodnessOfFitTest(log_grad)\n",
    "#     p_val = qm.is_from_null(0.05, alter, 0.1)\n",
    "#     print(f\"iteration {i} on {idx}th seqeunce with p_value {p_val}\")\n",
    "#     p_vals.append(p_val)"
   ]
  },
  {
   "cell_type": "code",
   "execution_count": null,
   "metadata": {},
   "outputs": [],
   "source": [
    "# qm = GoodnessOfFitTest(log_grad)\n",
    "# alter = np.array([1]*1000).reshape(-1,1)\n",
    "# p_val = qm.is_from_null(0.05, alter, 0.1)\n",
    "# p_val"
   ]
  },
  {
   "cell_type": "code",
   "execution_count": null,
   "metadata": {},
   "outputs": [],
   "source": [
    "# # vh\n",
    "# to_be_test = concat_array(\n",
    "#      [vh_time_train, vh_time_test],\n",
    "#     [vh_len_train, vh_len_test], [500, 500])\n",
    "# iterations = 200\n",
    "# p_vals = []\n",
    "# for i in range(iterations):\n",
    "#     idx = random.sample(range(1000), 1)[0]\n",
    "#     # idx1 = idx[0]\n",
    "#     # idx2 = idx[1]\n",
    "#     # null = to_be_test[i]\n",
    "#     # null = [np.array(n[n>0]).reshape(-1,1) for n in null]\n",
    "#     alter = to_be_test[idx]\n",
    "#     alter = np.array(alter[alter>0]).reshape(-1,1)\n",
    "#     qm = GoodnessOfFitTest(log_grad)\n",
    "#     p_val = qm.is_from_null(0.05, alter, 0.1)\n",
    "#     print(f\"iteration {i} on {idx}th seqeunce with p_value {p_val}\")\n",
    "#     p_vals.append(p_val)"
   ]
  },
  {
   "cell_type": "code",
   "execution_count": null,
   "metadata": {},
   "outputs": [],
   "source": [
    "# # se and sc\n",
    "# to_be_test = concat_array(\n",
    "#      [sc_time_train, sc_time_test],\n",
    "#     [sc_len_train, sc_len_test], [50, 50])\n",
    "# iterations = 200\n",
    "# p_vals = []\n",
    "# model = se\n",
    "# for i in range(iterations):\n",
    "#     idx = random.sample(range(100), 1)[0]\n",
    "#     # idx1 = idx[0]\n",
    "#     # idx2 = idx[1]\n",
    "#     # null = to_be_test[i]\n",
    "#     # null = [np.array(n[n>0]).reshape(-1,1) for n in null]\n",
    "#     alter = to_be_test[idx]\n",
    "#     alter = np.array(alter[alter>0]).reshape(-1,1)\n",
    "#     qm = GoodnessOfFitTest(log_grad)\n",
    "#     p_val = qm.is_from_null(0.05, alter, 0.1)\n",
    "#     print(f\"iteration {i} on {idx}th seqeunce with p_value {p_val}\")\n",
    "#     p_vals.append(p_val)"
   ]
  },
  {
   "cell_type": "code",
   "execution_count": null,
   "metadata": {},
   "outputs": [],
   "source": [
    "# ngrid = 100\n",
    "# ts = np.linspace(buffer_end_time, train_data_.max(), ngrid)\n",
    "# nh_model = NeuralHawkes(config)\n",
    "# nh_model, train_llks, test_llks, test_maes= \\\n",
    "#     model_train(train_data_, train_data_,\n",
    "#                 buffer_train_data_, buffer_train_data_,\n",
    "#                 nh_model, config, True, ts, None)"
   ]
  }
 ],
 "metadata": {
  "kernelspec": {
   "display_name": "Python 3",
   "language": "python",
   "name": "python3"
  },
  "language_info": {
   "codemirror_mode": {
    "name": "ipython",
    "version": 3
   },
   "file_extension": ".py",
   "mimetype": "text/x-python",
   "name": "python",
   "nbconvert_exporter": "python",
   "pygments_lexer": "ipython3",
   "version": "3.11.5"
  }
 },
 "nbformat": 4,
 "nbformat_minor": 2
}
